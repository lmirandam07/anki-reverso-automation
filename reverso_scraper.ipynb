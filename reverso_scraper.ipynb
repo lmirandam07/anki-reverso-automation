{
 "metadata": {
  "language_info": {
   "codemirror_mode": {
    "name": "ipython",
    "version": 3
   },
   "file_extension": ".py",
   "mimetype": "text/x-python",
   "name": "python",
   "nbconvert_exporter": "python",
   "pygments_lexer": "ipython3",
   "version": "3.9.1"
  },
  "orig_nbformat": 2,
  "kernelspec": {
   "name": "pythonjvsc74a57bd0500182ff3f2c5a01a35676a8566cb1c6ccd4991a8858442ee9695627a778d294",
   "display_name": "Python 3.9.1  ('venv': venv)"
  },
  "metadata": {
   "interpreter": {
    "hash": "500182ff3f2c5a01a35676a8566cb1c6ccd4991a8858442ee9695627a778d294"
   }
  }
 },
 "nbformat": 4,
 "nbformat_minor": 2,
 "cells": [
  {
   "cell_type": "code",
   "execution_count": 174,
   "metadata": {},
   "outputs": [],
   "source": [
    "import csv\n",
    "import logging\n",
    "import requests\n",
    "from pathlib import Path\n",
    "from pprint import pprint\n",
    "from decouple import config\n",
    "from bs4 import BeautifulSoup\n",
    "from azure.cognitiveservices.speech import AudioDataStream, SpeechConfig, SpeechSynthesizer, SpeechSynthesisOutputFormat\n",
    "from azure.cognitiveservices.speech.audio import AudioOutputConfig"
   ]
  },
  {
   "cell_type": "code",
   "execution_count": 159,
   "metadata": {},
   "outputs": [],
   "source": [
    "headers = {\n",
    "        'User-Agent': 'Mozilla/5.0 (Windows NT 10.0; Win64; x64; rv:87.0) Gecko/20100101 Firefox/87.0'\n",
    "}"
   ]
  },
  {
   "cell_type": "code",
   "execution_count": 160,
   "metadata": {},
   "outputs": [],
   "source": [
    "def reverso_request(start, length):\n",
    "    base_url = f\"https://context.reverso.net/bst-web-user/user/favourites/shared\"\n",
    "    \n",
    "    params = {\n",
    "        'userName': 'lmirandam07',\n",
    "        'start': start,\n",
    "        'length': length,\n",
    "        'order': 10\n",
    "    }\n",
    "\n",
    "    try:\n",
    "        request = requests.get(base_url, params=params, headers=headers)\n",
    "        request.raise_for_status()\n",
    "        \n",
    "        return request.json()\n",
    "    except requests.exceptions.HTTPError as e:\n",
    "        print(e)"
   ]
  },
  {
   "cell_type": "code",
   "execution_count": 161,
   "metadata": {},
   "outputs": [],
   "source": [
    "# Function to drop the duplicated words from the JSON\n",
    "def words_filter(words, csv_headers): \n",
    "    csv_file = Path(\"./words_list.csv\")\n",
    "    csv_file.touch(exist_ok=True)\n",
    "    empty_file = False\n",
    "\n",
    "    with open(csv_file, 'r') as file: \n",
    "      reader = list(csv.reader(file))\n",
    "\n",
    "      if len(reader) == 1:\n",
    "        return words\n",
    "\n",
    "      if len(reader) < 1:\n",
    "        empty_file = True\n",
    "      elif len(reader) >=2:\n",
    "        last_word_de = reader[-1][0]\n",
    "\n",
    "    with open(csv_file, 'w') as file: \n",
    "      writer = csv.writer()\n",
    "      if empty_file:\n",
    "        writer.writerow(csv_headers.keys())\n",
    "        return words\n",
    "\n",
    "      last_updated_idx = words.index(list(filter(lambda w: w['srcText'] == last_word_de if w['srcLang'] == 'de' else w['trgText'] == last_word_de, words))[0])\n",
    "\n",
    "      return words[:last_updated_idx]\n"
   ]
  },
  {
   "cell_type": "code",
   "execution_count": 162,
   "metadata": {},
   "outputs": [],
   "source": [
    "def get_word_tag(de_word):\n",
    "    tags = {\n",
    "        'adj.': 'adjetivos',\n",
    "        'v.': 'verbos',\n",
    "        'n.': 'sustantivos',\n",
    "        'adv.': 'adverbios'\n",
    "    }\n",
    "    reverso_url = f\"https://context.reverso.net/traduccion/aleman-espanol/{de_word}\"\n",
    "\n",
    "    try:\n",
    "        req = requests.get(reverso_url, headers=headers)\n",
    "        soup = BeautifulSoup(req.text, \"html.parser\")\n",
    "        word_tag = soup.select(\"#pos-filters button\")[0][\"data-pos\"]   \n",
    "\n",
    "        return tags[word_tag]\n",
    "    except requests.exceptions.HTTPError as e:\n",
    "        print(e)"
   ]
  },
  {
   "cell_type": "code",
   "execution_count": 169,
   "metadata": {},
   "outputs": [],
   "source": [
    "def get_noun_article(de_word):\n",
    "    leo_url = f\"https://dict.leo.org/alem%C3%A1n-espa%C3%B1ol/{de_word}\"\n",
    "\n",
    "    try:\n",
    "        req = requests.get(leo_url, headers=headers)\n",
    "        soup = BeautifulSoup(req.text, \"html.parser\")        \n",
    "        de_noun = soup.select(\"#section-subst td[lang='de'] samp\")\n",
    "\n",
    "        de_article = de_noun[0].text.split(' ')[0] or ''\n",
    "        de_plural = de_noun[0].find('small').text or ''\n",
    "        de_word = f\"{de_article} {de_word} - {de_plural}\"\n",
    "        return de_word\n",
    "        \n",
    "    except requests.exceptions.HTTPError as e:\n",
    "        print(e)\n"
   ]
  },
  {
   "cell_type": "code",
   "execution_count": 175,
   "metadata": {},
   "outputs": [],
   "source": [
    "def generate_sentence_audio(de_sentence):\n",
    "    AZURE_API_KEY = config('AZURE_API_KEY')\n",
    "    AZURE_LOCATION = config('AZURE_LOCATION')\n",
    "\n",
    "    speech_config = SpeechConfig(subscription=AZURE_API_KEY, region=AZURE_LOCATION)\n",
    "\n",
    "    "
   ]
  },
  {
   "cell_type": "code",
   "execution_count": 165,
   "metadata": {},
   "outputs": [],
   "source": [
    "def get_words_list(word, words_dict):\n",
    "    # If src lang is german, then return the first order otherwise change the order\n",
    "    language_order = lambda lang: ('src', 'trg') if lang =='de' else ('trg', 'src')\n",
    "\n",
    "    de_order, es_order = language_order(word['srcLang'])\n",
    "    words_dict['de_word'] = word[f'{de_order}Text']\n",
    "    words_dict['es_word'] = word[f'{es_order}Text']\n",
    "    # To remove <em> tags \n",
    "    words_dict['de_sentence'] = BeautifulSoup(word[f'{de_order}Context']).get_text()\n",
    "    words_dict['es_sentence'] = BeautifulSoup(word[f'{es_order}Context']).get_text()\n",
    "\n",
    "    words_dict['tags'] = get_word_tag(words_dict['de_word'])\n",
    "\n",
    "    if words_dict['tags'] == 'sustantivos':\n",
    "        words_dict['de_word'] = get_noun_article(words_dict['de_word'])\n",
    "\n",
    "    words_dict['de_audio'] = generate_sentence_audio(words_dict['de_sentence'])\n",
    "\n",
    "    return words_dict"
   ]
  },
  {
   "cell_type": "code",
   "execution_count": 168,
   "metadata": {},
   "outputs": [],
   "source": [
    "def main():\n",
    "    # logging.basicConfig(filename='scraper.log', level=logging.INFO)\n",
    "    words_dict = {\n",
    "        'de_word': '',\n",
    "        'de_sentence': '',\n",
    "        'es_word': '',\n",
    "        'es_sentence': '',\n",
    "        'de_audio': '',\n",
    "        'tags': ''\n",
    "    }\n",
    "    start = 0\n",
    "    length = 10\n",
    "    data = reverso_request(start, length)\n",
    "    words_results = data['results']\n",
    "    num_total_results = data['numTotalResults']\n",
    "    if num_total_results > length:\n",
    "        # Starts the requests in the end of the previus and make another with all the remaining words\n",
    "        start = length\n",
    "        length = num_total_results - length\n",
    "        data = reverso_request(start, length)\n",
    "        words_results.extend(data['results'])\n",
    "\n",
    "    filtered_words = words_filter(words_results, words_dict)\n",
    "\n",
    "    words_dict_list = [get_words_list(f_words, words_dict) for f_words in filtered_words]\n",
    "    pprint(words_dict_list)\n",
    "    print(len(words_dict_list))"
   ]
  },
  {
   "cell_type": "code",
   "execution_count": 170,
   "metadata": {},
   "outputs": [
    {
     "output_type": "stream",
     "name": "stdout",
     "text": [
      "[{'de_audio': None,\n  'de_sentence': 'Die Dinosaurier spürten die drohende Verwüstung.',\n  'de_word': 'die Verwüstung - pl.: die Verwüstungen',\n  'es_sentence': 'Los dinosaurios sintieron la devastación inminente.',\n  'es_word': 'devastación',\n  'tags': 'sustantivos'},\n {'de_audio': None,\n  'de_sentence': 'Die Dinosaurier spürten die drohende Verwüstung.',\n  'de_word': 'die Verwüstung - pl.: die Verwüstungen',\n  'es_sentence': 'Los dinosaurios sintieron la devastación inminente.',\n  'es_word': 'devastación',\n  'tags': 'sustantivos'},\n {'de_audio': None,\n  'de_sentence': 'Die Dinosaurier spürten die drohende Verwüstung.',\n  'de_word': 'die Verwüstung - pl.: die Verwüstungen',\n  'es_sentence': 'Los dinosaurios sintieron la devastación inminente.',\n  'es_word': 'devastación',\n  'tags': 'sustantivos'},\n {'de_audio': None,\n  'de_sentence': 'Die Dinosaurier spürten die drohende Verwüstung.',\n  'de_word': 'die Verwüstung - pl.: die Verwüstungen',\n  'es_sentence': 'Los dinosaurios sintieron la devastación inminente.',\n  'es_word': 'devastación',\n  'tags': 'sustantivos'},\n {'de_audio': None,\n  'de_sentence': 'Die Dinosaurier spürten die drohende Verwüstung.',\n  'de_word': 'die Verwüstung - pl.: die Verwüstungen',\n  'es_sentence': 'Los dinosaurios sintieron la devastación inminente.',\n  'es_word': 'devastación',\n  'tags': 'sustantivos'},\n {'de_audio': None,\n  'de_sentence': 'Die Dinosaurier spürten die drohende Verwüstung.',\n  'de_word': 'die Verwüstung - pl.: die Verwüstungen',\n  'es_sentence': 'Los dinosaurios sintieron la devastación inminente.',\n  'es_word': 'devastación',\n  'tags': 'sustantivos'},\n {'de_audio': None,\n  'de_sentence': 'Die Dinosaurier spürten die drohende Verwüstung.',\n  'de_word': 'die Verwüstung - pl.: die Verwüstungen',\n  'es_sentence': 'Los dinosaurios sintieron la devastación inminente.',\n  'es_word': 'devastación',\n  'tags': 'sustantivos'},\n {'de_audio': None,\n  'de_sentence': 'Die Dinosaurier spürten die drohende Verwüstung.',\n  'de_word': 'die Verwüstung - pl.: die Verwüstungen',\n  'es_sentence': 'Los dinosaurios sintieron la devastación inminente.',\n  'es_word': 'devastación',\n  'tags': 'sustantivos'},\n {'de_audio': None,\n  'de_sentence': 'Die Dinosaurier spürten die drohende Verwüstung.',\n  'de_word': 'die Verwüstung - pl.: die Verwüstungen',\n  'es_sentence': 'Los dinosaurios sintieron la devastación inminente.',\n  'es_word': 'devastación',\n  'tags': 'sustantivos'},\n {'de_audio': None,\n  'de_sentence': 'Die Dinosaurier spürten die drohende Verwüstung.',\n  'de_word': 'die Verwüstung - pl.: die Verwüstungen',\n  'es_sentence': 'Los dinosaurios sintieron la devastación inminente.',\n  'es_word': 'devastación',\n  'tags': 'sustantivos'},\n {'de_audio': None,\n  'de_sentence': 'Die Dinosaurier spürten die drohende Verwüstung.',\n  'de_word': 'die Verwüstung - pl.: die Verwüstungen',\n  'es_sentence': 'Los dinosaurios sintieron la devastación inminente.',\n  'es_word': 'devastación',\n  'tags': 'sustantivos'},\n {'de_audio': None,\n  'de_sentence': 'Die Dinosaurier spürten die drohende Verwüstung.',\n  'de_word': 'die Verwüstung - pl.: die Verwüstungen',\n  'es_sentence': 'Los dinosaurios sintieron la devastación inminente.',\n  'es_word': 'devastación',\n  'tags': 'sustantivos'},\n {'de_audio': None,\n  'de_sentence': 'Die Dinosaurier spürten die drohende Verwüstung.',\n  'de_word': 'die Verwüstung - pl.: die Verwüstungen',\n  'es_sentence': 'Los dinosaurios sintieron la devastación inminente.',\n  'es_word': 'devastación',\n  'tags': 'sustantivos'},\n {'de_audio': None,\n  'de_sentence': 'Die Dinosaurier spürten die drohende Verwüstung.',\n  'de_word': 'die Verwüstung - pl.: die Verwüstungen',\n  'es_sentence': 'Los dinosaurios sintieron la devastación inminente.',\n  'es_word': 'devastación',\n  'tags': 'sustantivos'},\n {'de_audio': None,\n  'de_sentence': 'Die Dinosaurier spürten die drohende Verwüstung.',\n  'de_word': 'die Verwüstung - pl.: die Verwüstungen',\n  'es_sentence': 'Los dinosaurios sintieron la devastación inminente.',\n  'es_word': 'devastación',\n  'tags': 'sustantivos'},\n {'de_audio': None,\n  'de_sentence': 'Die Dinosaurier spürten die drohende Verwüstung.',\n  'de_word': 'die Verwüstung - pl.: die Verwüstungen',\n  'es_sentence': 'Los dinosaurios sintieron la devastación inminente.',\n  'es_word': 'devastación',\n  'tags': 'sustantivos'},\n {'de_audio': None,\n  'de_sentence': 'Die Dinosaurier spürten die drohende Verwüstung.',\n  'de_word': 'die Verwüstung - pl.: die Verwüstungen',\n  'es_sentence': 'Los dinosaurios sintieron la devastación inminente.',\n  'es_word': 'devastación',\n  'tags': 'sustantivos'},\n {'de_audio': None,\n  'de_sentence': 'Die Dinosaurier spürten die drohende Verwüstung.',\n  'de_word': 'die Verwüstung - pl.: die Verwüstungen',\n  'es_sentence': 'Los dinosaurios sintieron la devastación inminente.',\n  'es_word': 'devastación',\n  'tags': 'sustantivos'},\n {'de_audio': None,\n  'de_sentence': 'Die Dinosaurier spürten die drohende Verwüstung.',\n  'de_word': 'die Verwüstung - pl.: die Verwüstungen',\n  'es_sentence': 'Los dinosaurios sintieron la devastación inminente.',\n  'es_word': 'devastación',\n  'tags': 'sustantivos'},\n {'de_audio': None,\n  'de_sentence': 'Die Dinosaurier spürten die drohende Verwüstung.',\n  'de_word': 'die Verwüstung - pl.: die Verwüstungen',\n  'es_sentence': 'Los dinosaurios sintieron la devastación inminente.',\n  'es_word': 'devastación',\n  'tags': 'sustantivos'},\n {'de_audio': None,\n  'de_sentence': 'Die Dinosaurier spürten die drohende Verwüstung.',\n  'de_word': 'die Verwüstung - pl.: die Verwüstungen',\n  'es_sentence': 'Los dinosaurios sintieron la devastación inminente.',\n  'es_word': 'devastación',\n  'tags': 'sustantivos'},\n {'de_audio': None,\n  'de_sentence': 'Die Dinosaurier spürten die drohende Verwüstung.',\n  'de_word': 'die Verwüstung - pl.: die Verwüstungen',\n  'es_sentence': 'Los dinosaurios sintieron la devastación inminente.',\n  'es_word': 'devastación',\n  'tags': 'sustantivos'},\n {'de_audio': None,\n  'de_sentence': 'Die Dinosaurier spürten die drohende Verwüstung.',\n  'de_word': 'die Verwüstung - pl.: die Verwüstungen',\n  'es_sentence': 'Los dinosaurios sintieron la devastación inminente.',\n  'es_word': 'devastación',\n  'tags': 'sustantivos'},\n {'de_audio': None,\n  'de_sentence': 'Die Dinosaurier spürten die drohende Verwüstung.',\n  'de_word': 'die Verwüstung - pl.: die Verwüstungen',\n  'es_sentence': 'Los dinosaurios sintieron la devastación inminente.',\n  'es_word': 'devastación',\n  'tags': 'sustantivos'},\n {'de_audio': None,\n  'de_sentence': 'Die Dinosaurier spürten die drohende Verwüstung.',\n  'de_word': 'die Verwüstung - pl.: die Verwüstungen',\n  'es_sentence': 'Los dinosaurios sintieron la devastación inminente.',\n  'es_word': 'devastación',\n  'tags': 'sustantivos'},\n {'de_audio': None,\n  'de_sentence': 'Die Dinosaurier spürten die drohende Verwüstung.',\n  'de_word': 'die Verwüstung - pl.: die Verwüstungen',\n  'es_sentence': 'Los dinosaurios sintieron la devastación inminente.',\n  'es_word': 'devastación',\n  'tags': 'sustantivos'},\n {'de_audio': None,\n  'de_sentence': 'Die Dinosaurier spürten die drohende Verwüstung.',\n  'de_word': 'die Verwüstung - pl.: die Verwüstungen',\n  'es_sentence': 'Los dinosaurios sintieron la devastación inminente.',\n  'es_word': 'devastación',\n  'tags': 'sustantivos'},\n {'de_audio': None,\n  'de_sentence': 'Die Dinosaurier spürten die drohende Verwüstung.',\n  'de_word': 'die Verwüstung - pl.: die Verwüstungen',\n  'es_sentence': 'Los dinosaurios sintieron la devastación inminente.',\n  'es_word': 'devastación',\n  'tags': 'sustantivos'},\n {'de_audio': None,\n  'de_sentence': 'Die Dinosaurier spürten die drohende Verwüstung.',\n  'de_word': 'die Verwüstung - pl.: die Verwüstungen',\n  'es_sentence': 'Los dinosaurios sintieron la devastación inminente.',\n  'es_word': 'devastación',\n  'tags': 'sustantivos'}]\n29\n"
     ]
    }
   ],
   "source": [
    "if __name__ == '__main__':\n",
    "   main()"
   ]
  }
 ]
}