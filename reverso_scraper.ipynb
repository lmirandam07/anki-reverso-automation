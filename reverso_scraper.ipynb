{
 "metadata": {
  "language_info": {
   "codemirror_mode": {
    "name": "ipython",
    "version": 3
   },
   "file_extension": ".py",
   "mimetype": "text/x-python",
   "name": "python",
   "nbconvert_exporter": "python",
   "pygments_lexer": "ipython3",
   "version": "3.9.1"
  },
  "orig_nbformat": 2,
  "kernelspec": {
   "name": "pythonjvsc74a57bd0500182ff3f2c5a01a35676a8566cb1c6ccd4991a8858442ee9695627a778d294",
   "display_name": "Python 3.9.1  ('venv': venv)"
  },
  "metadata": {
   "interpreter": {
    "hash": "500182ff3f2c5a01a35676a8566cb1c6ccd4991a8858442ee9695627a778d294"
   }
  }
 },
 "nbformat": 4,
 "nbformat_minor": 2,
 "cells": [
  {
   "cell_type": "code",
   "execution_count": 7,
   "metadata": {},
   "outputs": [],
   "source": [
    "import csv\n",
    "import logging\n",
    "import requests\n",
    "from pathlib import Path\n",
    "from pprint import pprint\n",
    "from bs4 import BeautifulSoup\n",
    "from azure.cognitiveservices.speech import AudioDataStream, SpeechConfig, SpeechSynthesizer, SpeechSynthesisOutputFormat\n",
    "from azure.cognitiveservices.speech.audio import AudioOutputConfig"
   ]
  },
  {
   "cell_type": "code",
   "execution_count": 8,
   "metadata": {},
   "outputs": [],
   "source": [
    "headers = {\n",
    "        'User-Agent': 'Mozilla/5.0 (Windows NT 10.0; Win64; x64; rv:87.0) Gecko/20100101 Firefox/87.0'\n",
    "}"
   ]
  },
  {
   "cell_type": "code",
   "execution_count": 9,
   "metadata": {},
   "outputs": [],
   "source": [
    "def reverso_request(start, length):\n",
    "    base_url = f\"https://context.reverso.net/bst-web-user/user/favourites/shared\"\n",
    "    \n",
    "    params = {\n",
    "        'userName': 'lmirandam07',\n",
    "        'start': start,\n",
    "        'length': length,\n",
    "        'order': 10\n",
    "    }\n",
    "\n",
    "    try:\n",
    "        request = requests.get(base_url, params=params, headers=headers)\n",
    "        request.raise_for_status()\n",
    "        \n",
    "        return request.json()\n",
    "    except requests.exceptions.HTTPError as e:\n",
    "        print(e)"
   ]
  },
  {
   "cell_type": "code",
   "execution_count": 10,
   "metadata": {},
   "outputs": [],
   "source": [
    "# Function to drop the duplicated words from the JSON\n",
    "def words_filter(words, csv_header): \n",
    "    csv_file = Path(\"./words_list.csv\")\n",
    "    csv_file.touch(exist_ok=True)\n",
    "    empty_file = False\n",
    "\n",
    "    with open(csv_file, 'r') as file: \n",
    "      reader = csv.reader(file)\n",
    "\n",
    "      if len(reader) == 1:\n",
    "        return words\n",
    "\n",
    "      if len(reader) < 1:\n",
    "        empty_file = True\n",
    "      elif len(reader) >=2:\n",
    "        last_word_de = reader[-1][0]\n",
    "\n",
    "    with open(csv_file, 'w') as file: \n",
    "      writer = csv.writer()\n",
    "      if empty_file:\n",
    "        writer.writerow(csv_header.keys())\n",
    "        return words\n",
    "      #  TODO: Filter repeated words\n",
    "      last_updated_idx = words.index(list(filter(lambda w: w['srcText'] == last_word_de if w['srcLang'] == 'de' else w['trgText'] == last_word_de, words))[0])\n",
    "\n",
    "      return words[:last_updated_idx]\n"
   ]
  },
  {
   "cell_type": "code",
   "execution_count": 21,
   "metadata": {},
   "outputs": [
    {
     "output_type": "execute_result",
     "data": {
      "text/plain": [
       "'sustantivos'"
      ]
     },
     "metadata": {},
     "execution_count": 21
    }
   ],
   "source": [
    "def get_word_tag(de_word):\r\n",
    "    tags = {\r\n",
    "        'adj.': 'adjetivos',\r\n",
    "        'v.': 'verbos',\r\n",
    "        'n.': 'sustantivos',\r\n",
    "        'adv.': 'adverbios'\r\n",
    "    }\r\n",
    "    reverso_url = f\"https://context.reverso.net/traduccion/aleman-espanol/{de_word}\"\r\n",
    "\r\n",
    "    try:\r\n",
    "        req = requests.get(reverso_url, headers=headers)\r\n",
    "        soup = BeautifulSoup(req.text, \"html.parser\")\r\n",
    "        word_tag = soup.select(\"#pos-filters button\")[0][\"data-pos\"]   \r\n",
    "\r\n",
    "        return tags[word_tag]\r\n",
    "    except requests.exceptions.HTTPError as e:\r\n",
    "        print(e)"
   ]
  },
  {
   "cell_type": "code",
   "execution_count": 73,
   "metadata": {},
   "outputs": [
    {
     "output_type": "execute_result",
     "data": {
      "text/plain": [
       "('der', 'pl.: die Gedanken')"
      ]
     },
     "metadata": {},
     "execution_count": 73
    }
   ],
   "source": [
    "def get_noun_article(de_word, es_word):\n",
    "    leo_url = f\"https://dict.leo.org/alem%C3%A1n-espa%C3%B1ol/{de_word}\"\n",
    "\n",
    "    try:\n",
    "        req = requests.get(leo_url, headers=headers)\n",
    "        soup = BeautifulSoup(req.text, \"html.parser\")        \n",
    "        es_noun = soup.select(\"#section-subst td[lang='es'] samp\")\n",
    "        de_noun = soup.select(\"#section-subst td[lang='de'] samp\")\n",
    "        \n",
    "        for es_row, de_row in zip(es_noun, de_noun):\n",
    "            # If the spanish word from reverso its the same as the one on the Leo row\n",
    "            if es_row.text.split(' ')[1] == es_word:\n",
    "                # Get the article for the noun\n",
    "                de_article = de_row.text.split(' ')[0]\n",
    "                # Get the plural form of the noun\n",
    "                de_plural = de_row.find('small').text\n",
    "\n",
    "                return (de_article, de_plural)            \n",
    "            \n",
    "        \n",
    "    except requests.exceptions.HTTPError as e:\n",
    "        print(e)\n",
    "\n",
    "get_noun_article('Gedanke', 'idea')"
   ]
  },
  {
   "cell_type": "code",
   "execution_count": 76,
   "metadata": {},
   "outputs": [],
   "source": [
    "def main():\n",
    "    # logging.basicConfig(filename='scraper.log', level=logging.INFO)\n",
    "    words_dict = {\n",
    "        'de_word': '',\n",
    "        'de_sentence': '',\n",
    "        'es_word': '',\n",
    "        'es_sentence': '',\n",
    "        'de_audio': '',\n",
    "        'tags': ''\n",
    "    }\n",
    "\n",
    "    start = 0\n",
    "    length = 10\n",
    "    data = reverso_request(start, length)\n",
    "    words_results = data['results']\n",
    "    num_total_results = data['numTotalResults']\n",
    "    if num_total_results > length:\n",
    "        # Starts the requests in the end of the previus and make another with all the remaining words\n",
    "        start = length\n",
    "        length = total_results - length\n",
    "        data = reverso_request(start, length)\n",
    "        words_results.extend(data['results'])\n",
    "\n",
    "    filtered_words = words_filter(words_results, words_dict)\n",
    "\n",
    "    for word in filtered_words:\n",
    "        words_dict['de_word'] = word['srcText'] if word['srcLang'] == 'de' else word['trgText']\n",
    "        \n",
    "        # To remove <em> tags in sentences\n",
    "        words_dict['de_sentence'] = BeautifulSoup(word['srcContext']).get_text() \n",
    "        words_dict['es_word'] = word['trgText']\n",
    "        words_dict['es_sentence'] = BeautifulSoup(word['trgContext']).get_text() \n",
    "        words_dict['tags'] = get_word_tag(words_dict['de_word'])\n",
    "\n",
    "        if words_dict['tags'] == 'sustantivos':\n",
    "            article, plural = get_noun_article(words_dict['de_word'], words_dict['es_word'])\n",
    "            words_dict['de_word'] = article + words_dict['de_word'] + plural\n"
   ]
  },
  {
   "cell_type": "code",
   "execution_count": 18,
   "metadata": {},
   "outputs": [
    {
     "output_type": "stream",
     "name": "stdout",
     "text": [
      "14\n[{'comment': '',\n  'creationDate': '2021-04-15T17:12:41Z',\n  'document': '',\n  'documentTitle': '',\n  'domain': None,\n  'favType': None,\n  'hash': 'a1d3f743f3938e96795f0b870f546d83',\n  'historyID': None,\n  'id': 26248847,\n  'lastEdit': '2021-04-15T17:12:41Z',\n  'removed': False,\n  'source': 0,\n  'srcContext': 'Ich glaube, dass es war nur eine <em>Erkältung</em>.',\n  'srcLang': 'de',\n  'srcSegment': '',\n  'srcText': 'Erkältung',\n  'trgContext': 'Pensé que solo era un <em>resfriado</em>.',\n  'trgLang': 'es',\n  'trgText': 'resfriado',\n  'trgTextEdited': None,\n  'userID': 4291697},\n {'comment': '',\n  'creationDate': '2021-04-15T17:09:06Z',\n  'document': '',\n  'documentTitle': '',\n  'domain': None,\n  'favType': None,\n  'hash': 'f85dbcb404e9b279eb945a8b5124806c',\n  'historyID': None,\n  'id': 26248790,\n  'lastEdit': '2021-04-15T17:09:06Z',\n  'removed': False,\n  'source': 0,\n  'srcContext': 'Komm mir nicht zu nahe. Ich bin <em>erkältet</em>.',\n  'srcLang': 'de',\n  'srcSegment': '',\n  'srcText': 'erkältet',\n  'trgContext': 'No te me acerques, estoy <em class=\"both\">resfriado</em>.',\n  'trgLang': 'es',\n  'trgText': 'resfriado',\n  'trgTextEdited': None,\n  'userID': 4291697},\n {'comment': None,\n  'creationDate': '2021-04-15T15:05:59Z',\n  'document': None,\n  'documentTitle': None,\n  'domain': None,\n  'favType': None,\n  'hash': '3dc1bc1ccdc9fecb8ede9c499c58f694',\n  'historyID': None,\n  'id': 26248718,\n  'lastEdit': '2021-04-15T15:05:59Z',\n  'removed': False,\n  'source': 1,\n  'srcContext': 'La <em>farmacia</em> está cerca del hospital.',\n  'srcLang': 'es',\n  'srcSegment': None,\n  'srcText': 'farmacia',\n  'trgContext': 'Die <em>Apotheke</em> liegt in der Nähe des Krankenhauses.',\n  'trgLang': 'de',\n  'trgText': 'Apotheke',\n  'trgTextEdited': None,\n  'userID': 4291697},\n {'comment': None,\n  'creationDate': '2021-04-15T14:53:03Z',\n  'document': None,\n  'documentTitle': None,\n  'domain': None,\n  'favType': None,\n  'hash': '482807f11d97edc533b0a119db6bd53a',\n  'historyID': None,\n  'id': 26248459,\n  'lastEdit': '2021-04-15T14:53:03Z',\n  'removed': False,\n  'source': 1,\n  'srcContext': 'En esta mañana mejor hablamos del <em>clima</em>.',\n  'srcLang': 'es',\n  'srcSegment': None,\n  'srcText': 'clima',\n  'trgContext': 'An diesem Sonntag sprechen wir besser über das '\n                '<em>Wetter</em>.',\n  'trgLang': 'de',\n  'trgText': 'Wetter',\n  'trgTextEdited': None,\n  'userID': 4291697},\n {'comment': None,\n  'creationDate': '2021-04-15T14:52:30Z',\n  'document': None,\n  'documentTitle': None,\n  'domain': None,\n  'favType': None,\n  'hash': 'fae3314f42fb32ed2641f4a4c303559b',\n  'historyID': None,\n  'id': 26248438,\n  'lastEdit': '2021-04-15T14:52:30Z',\n  'removed': False,\n  'source': 1,\n  'srcContext': 'Después tuvo un <em>dolor</em> agudo y colapsó.',\n  'srcLang': 'es',\n  'srcSegment': None,\n  'srcText': 'dolor',\n  'trgContext': 'Dann fühlte er einen stechenden <em>Schmerz</em> und ist '\n                'kollabiert.',\n  'trgLang': 'de',\n  'trgText': 'Schmerz',\n  'trgTextEdited': None,\n  'userID': 4291697},\n {'comment': None,\n  'creationDate': '2021-04-15T14:50:38Z',\n  'document': None,\n  'documentTitle': None,\n  'domain': None,\n  'favType': None,\n  'hash': '9f32985be7d972147103aa22338bbd5e',\n  'historyID': None,\n  'id': 26248371,\n  'lastEdit': '2021-04-15T14:50:38Z',\n  'removed': False,\n  'source': 1,\n  'srcContext': 'Tengo tanta presión en la <em>cabeza</em>...',\n  'srcLang': 'es',\n  'srcSegment': None,\n  'srcText': 'cabeza',\n  'trgContext': 'Ich bin so was von verkrampft im <em>Kopf</em>...',\n  'trgLang': 'de',\n  'trgText': 'Kopf',\n  'trgTextEdited': None,\n  'userID': 4291697},\n {'comment': 'adv',\n  'creationDate': '2021-04-15T03:08:55Z',\n  'document': '',\n  'documentTitle': '',\n  'domain': None,\n  'favType': None,\n  'hash': '4344b3c4493ab373cf59ffd13fbaf28e',\n  'historyID': None,\n  'id': 26233446,\n  'lastEdit': '2021-04-15T03:37:50Z',\n  'removed': False,\n  'source': 4,\n  'srcContext': 'Aber <em>natürlich</em> haben Sie unsere volle Unterstützung.',\n  'srcLang': 'de',\n  'srcSegment': '',\n  'srcText': 'natürlich',\n  'trgContext': 'Pero, <em class=\"both\">por supuesto</em>, tiene nuestro '\n                'completo apoyo.',\n  'trgLang': 'es',\n  'trgText': 'por supuesto',\n  'trgTextEdited': None,\n  'userID': 4291697},\n {'comment': 'adv',\n  'creationDate': '2021-04-15T03:03:12Z',\n  'document': '',\n  'documentTitle': '',\n  'domain': None,\n  'favType': None,\n  'hash': 'ea948e7836dce38897b175946529a5eb',\n  'historyID': None,\n  'id': 26233400,\n  'lastEdit': '2021-04-15T03:37:57Z',\n  'removed': False,\n  'source': 4,\n  'srcContext': 'Ich liebe <em>übrigens</em> deine neue Frisur.',\n  'srcLang': 'de',\n  'srcSegment': '',\n  'srcText': 'übrigens',\n  'trgContext': 'Me encanta tu nuevo peinado, <em class=\"both\">por '\n                'cierto</em>.',\n  'trgLang': 'es',\n  'trgText': 'por cierto',\n  'trgTextEdited': None,\n  'userID': 4291697},\n {'comment': 'adj',\n  'creationDate': '2021-04-15T02:59:27Z',\n  'document': '',\n  'documentTitle': '',\n  'domain': None,\n  'favType': None,\n  'hash': 'bc039aeb0bd139dd5dbe921348a02f4e',\n  'historyID': None,\n  'id': 26233330,\n  'lastEdit': '2021-04-15T03:38:02Z',\n  'removed': False,\n  'source': 4,\n  'srcContext': 'Es <em>difícil</em>, pero lo intentaremos.',\n  'srcLang': 'es',\n  'srcSegment': '',\n  'srcText': 'difícil',\n  'trgContext': \"Es ist <em>schwierig</em>, aber wir versuchen's.\",\n  'trgLang': 'de',\n  'trgText': 'schwierig',\n  'trgTextEdited': None,\n  'userID': 4291697},\n {'comment': '',\n  'creationDate': '2021-04-15T01:11:17Z',\n  'document': '',\n  'documentTitle': '',\n  'domain': None,\n  'favType': None,\n  'hash': '387af35b0758df71c20490962799a202',\n  'historyID': None,\n  'id': 26233469,\n  'lastEdit': '2021-04-15T01:11:17Z',\n  'removed': False,\n  'source': 4,\n  'srcContext': '<em>Ansonsten</em> haben wir nichts zu verbergen.',\n  'srcLang': 'de',\n  'srcSegment': '',\n  'srcText': 'Ansonsten',\n  'trgContext': '<em class=\"both\">Por lo demás</em>, no tenemos nada que '\n                'ocultar.',\n  'trgLang': 'es',\n  'trgText': 'por lo demás',\n  'trgTextEdited': None,\n  'userID': 4291697},\n {'comment': '',\n  'creationDate': '2021-04-14T23:09:45Z',\n  'document': '',\n  'documentTitle': '',\n  'domain': None,\n  'favType': None,\n  'hash': 'cf2fb6c4e15f82a899ffa211ec9c2b50',\n  'historyID': None,\n  'id': 26233454,\n  'lastEdit': '2021-04-14T23:09:45Z',\n  'removed': False,\n  'source': 4,\n  'srcContext': 'Estoy llamando <em>porque</em> la tía Dorothy falleció hoy.',\n  'srcLang': 'es',\n  'srcSegment': '',\n  'srcText': 'porque',\n  'trgContext': 'Ich rufe an, <em class=\"both\">weil</em> Tante Dorothy heute '\n                'verstorben ist.',\n  'trgLang': 'de',\n  'trgText': 'weil',\n  'trgTextEdited': None,\n  'userID': 4291697},\n {'comment': 'sus',\n  'creationDate': '2021-04-14T17:10:06Z',\n  'document': '',\n  'documentTitle': '',\n  'domain': None,\n  'favType': None,\n  'hash': '3a88d86a704c1e92359594c50b9aa7e7',\n  'historyID': None,\n  'id': 26223846,\n  'lastEdit': '2021-04-15T01:38:55Z',\n  'removed': False,\n  'source': 0,\n  'srcContext': 'Die meisten Offiziere waren britischer <em>Herkunft</em>.',\n  'srcLang': 'de',\n  'srcSegment': '',\n  'srcText': 'herkunft',\n  'trgContext': 'La mayoría de los oficiales eran de <em '\n                'class=\"both\">origen</em> británico.',\n  'trgLang': 'es',\n  'trgText': 'origen',\n  'trgTextEdited': None,\n  'userID': 4291697},\n {'comment': 'adj',\n  'creationDate': '2021-04-14T17:09:08Z',\n  'document': '',\n  'documentTitle': '',\n  'domain': None,\n  'favType': None,\n  'hash': 'a2e4c88981160b4da0e4f140e1c902f3',\n  'historyID': None,\n  'id': 26223806,\n  'lastEdit': '2021-04-15T01:38:51Z',\n  'removed': False,\n  'source': 0,\n  'srcContext': 'Ich bin einfach echt <em>schläfrig</em>.',\n  'srcLang': 'de',\n  'srcSegment': '',\n  'srcText': 'schläfrig',\n  'trgContext': 'Sólo estoy realmente <em class=\"both\">somnoliento</em>.',\n  'trgLang': 'es',\n  'trgText': 'somnoliento',\n  'trgTextEdited': None,\n  'userID': 4291697},\n {'comment': 'sus',\n  'creationDate': '2021-04-13T18:22:51Z',\n  'document': '',\n  'documentTitle': '',\n  'domain': None,\n  'favType': None,\n  'hash': '15743fca85d2799e21deb4079cc62de6',\n  'historyID': None,\n  'id': 26197193,\n  'lastEdit': '2021-04-15T01:38:47Z',\n  'removed': False,\n  'source': 4,\n  'srcContext': 'Die Dinosaurier spürten die drohende <em>Verwüstung</em>.',\n  'srcLang': 'de',\n  'srcSegment': '',\n  'srcText': 'Verwüstung',\n  'trgContext': 'Los dinosaurios sintieron la <em>devastación</em> inminente.',\n  'trgLang': 'es',\n  'trgText': 'devastación',\n  'trgTextEdited': None,\n  'userID': 4291697}]\n"
     ]
    }
   ],
   "source": [
    "if __name__ == '__main__':\n",
    "   main()"
   ]
  }
 ]
}