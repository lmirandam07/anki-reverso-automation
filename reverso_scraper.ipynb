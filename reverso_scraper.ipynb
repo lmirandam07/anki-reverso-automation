{
 "metadata": {
  "language_info": {
   "codemirror_mode": {
    "name": "ipython",
    "version": 3
   },
   "file_extension": ".py",
   "mimetype": "text/x-python",
   "name": "python",
   "nbconvert_exporter": "python",
   "pygments_lexer": "ipython3",
   "version": "3.9.1"
  },
  "orig_nbformat": 2,
  "kernelspec": {
   "name": "python391jvsc74a57bd0500182ff3f2c5a01a35676a8566cb1c6ccd4991a8858442ee9695627a778d294",
   "display_name": "Python 3.9.1 64-bit ('venv')"
  },
  "metadata": {
   "interpreter": {
    "hash": "500182ff3f2c5a01a35676a8566cb1c6ccd4991a8858442ee9695627a778d294"
   }
  }
 },
 "nbformat": 4,
 "nbformat_minor": 2,
 "cells": [
  {
   "cell_type": "code",
   "execution_count": 2,
   "metadata": {},
   "outputs": [],
   "source": [
    "import csv\n",
    "import logging\n",
    "import requests\n",
    "from pathlib import Path\n",
    "from pprint import pprint\n",
    "from decouple import config\n",
    "from bs4 import BeautifulSoup\n",
    "from xml.etree import ElementTree"
   ]
  },
  {
   "cell_type": "code",
   "execution_count": 3,
   "metadata": {},
   "outputs": [],
   "source": [
    "headers = {\n",
    "        'User-Agent': 'Mozilla/5.0 (Windows NT 10.0; Win64; x64; rv:87.0) Gecko/20100101 Firefox/87.0'\n",
    "}"
   ]
  },
  {
   "cell_type": "code",
   "execution_count": 4,
   "metadata": {},
   "outputs": [],
   "source": [
    "def reverso_request(start, length):\n",
    "    base_url = f\"https://context.reverso.net/bst-web-user/user/favourites/shared\"\n",
    "    \n",
    "    params = {\n",
    "        'userName': 'lmirandam07',\n",
    "        'start': start,\n",
    "        'length': length,\n",
    "        'order': 10\n",
    "    }\n",
    "\n",
    "    try:\n",
    "        request = requests.get(base_url, params=params, headers=headers)\n",
    "        request.raise_for_status()\n",
    "        \n",
    "        return request.json()\n",
    "    except requests.exceptions.HTTPError as e:\n",
    "        print(e)"
   ]
  },
  {
   "cell_type": "code",
   "execution_count": 5,
   "metadata": {},
   "outputs": [],
   "source": [
    "# Function to drop the duplicated words from the JSON\n",
    "def words_filter(words, csv_headers): \n",
    "    csv_file = Path(\"./words_list.csv\")\n",
    "    csv_file.touch(exist_ok=True)\n",
    "    empty_file = False\n",
    "\n",
    "    with open(csv_file, 'r') as file: \n",
    "      reader = list(csv.reader(file))\n",
    "\n",
    "      if len(reader) == 1:\n",
    "        return words\n",
    "\n",
    "      if len(reader) < 1:\n",
    "        empty_file = True\n",
    "      elif len(reader) >=2:\n",
    "        last_word_de = reader[-1][0]\n",
    "\n",
    "    with open(csv_file, 'w') as file: \n",
    "      writer = csv.writer()\n",
    "      if empty_file:\n",
    "        writer.writerow(csv_headers.keys())\n",
    "        return words\n",
    "\n",
    "      last_updated_idx = words.index(list(filter(lambda w: w['srcText'] == last_word_de if w['srcLang'] == 'de' else w['trgText'] == last_word_de, words))[0])\n",
    "\n",
    "      return words[:last_updated_idx]\n"
   ]
  },
  {
   "cell_type": "code",
   "execution_count": 6,
   "metadata": {},
   "outputs": [],
   "source": [
    "def get_word_tag(de_word):\n",
    "    tags = ('adjetivo', 'sustantivo', 'adverbio', 'verbo')\n",
    "    reverso_url = f\"https://context.reverso.net/traduccion/aleman-espanol/{de_word}\"\n",
    "\n",
    "    try:\n",
    "        req = requests.get(reverso_url, headers=headers)\n",
    "        soup = BeautifulSoup(req.text, \"html.parser\")\n",
    "        word_tag = soup.select(\"#pos-filters button\")[0].text.strip().lower() or \"\"\n",
    "\n",
    "        if word_tag not in tags:\n",
    "            print(de_word, word_tag)\n",
    "            return \"\"\n",
    "        \n",
    "        return word_tag\n",
    "    except requests.exceptions.HTTPError as e:\n",
    "        print(e)"
   ]
  },
  {
   "cell_type": "code",
   "execution_count": 7,
   "metadata": {},
   "outputs": [],
   "source": [
    "def get_noun_article(de_word):\n",
    "    leo_url = f\"https://dict.leo.org/alem%C3%A1n-espa%C3%B1ol/{de_word}\"\n",
    "\n",
    "    try:\n",
    "        req = requests.get(leo_url, headers=headers)\n",
    "        soup = BeautifulSoup(req.text, \"html.parser\")        \n",
    "        de_noun = soup.select(\"#section-subst td[lang='de'] samp\")\n",
    "\n",
    "        de_article = de_noun[0].text.split(' ')[0] or ''\n",
    "        de_plural = de_noun[0].find('small').text or ''\n",
    "        de_word = f\"{de_article} {de_word} - {de_plural}\"\n",
    "        return de_word\n",
    "        \n",
    "    except requests.exceptions.HTTPError as e:\n",
    "        print(e)\n"
   ]
  },
  {
   "cell_type": "code",
   "execution_count": 8,
   "metadata": {},
   "outputs": [],
   "source": [
    "def get_sentence_audio(de_sentence):\n",
    "    AZURE_API_KEY = config('AZURE_API_KEY')\n",
    "    AZURE_LOCATION = config('AZURE_LOCATION')\n",
    "    azure_api_url = f'https://{AZURE_LOCATION}.api.cognitive.microsoft.com/sts/v1.0/issueToken'\n",
    "    headers = {\n",
    "        'Ocp-Apim-Subscription-Key': AZURE_API_KEY\n",
    "    }\n",
    "\n",
    "    "
   ]
  },
  {
   "cell_type": "code",
   "execution_count": 26,
   "metadata": {},
   "outputs": [],
   "source": [
    "def get_words_list(word, words_dict):\n",
    "    words_dict_c = words_dict.copy()\n",
    "    # If src lang is german, then return the first order otherwise change the order\n",
    "    language_order = lambda lang: ('src', 'trg') if lang =='de' else ('trg', 'src')\n",
    "\n",
    "    de_order, es_order = language_order(word['srcLang'])\n",
    "    words_dict_c['de_word'] = word[f'{de_order}Text']\n",
    "    words_dict_c['es_word'] = word[f'{es_order}Text']\n",
    "    # To remove <em> tags \n",
    "    words_dict_c['de_sentence'] = BeautifulSoup(word[f'{de_order}Context']).get_text()\n",
    "    words_dict_c['es_sentence'] = BeautifulSoup(word[f'{es_order}Context']).get_text()\n",
    "\n",
    "    words_dict_c['tags'] = get_word_tag(words_dict_c['de_word'])\n",
    "\n",
    "    if words_dict_c['tags'] == 'sustantivo':\n",
    "        words_dict_c['de_word'] = get_noun_article(words_dict_c['de_word'])\n",
    "\n",
    "    # words_dict['de_audio'] = get_sentence_audio(words_dict['de_sentence'])\n",
    "    return words_dict_c"
   ]
  },
  {
   "cell_type": "code",
   "execution_count": 27,
   "metadata": {},
   "outputs": [],
   "source": [
    "def main():\n",
    "    # logging.basicConfig(filename='scraper.log', level=logging.INFO)\n",
    "    words_dict = {\n",
    "        'de_word': '',\n",
    "        'de_sentence': '',\n",
    "        'es_word': '',\n",
    "        'es_sentence': '',\n",
    "        'de_audio': '',\n",
    "        'tags': ''\n",
    "    }\n",
    "    start = 0\n",
    "    length = 10\n",
    "    data = reverso_request(start, length)\n",
    "    words_results = data['results']\n",
    "    num_total_results = data['numTotalResults']\n",
    "    if num_total_results > length:\n",
    "        # Starts the requests in the end of the previus and make another with all the remaining words\n",
    "        start = length\n",
    "        length = num_total_results - length\n",
    "        data = reverso_request(start, length)\n",
    "        words_results.extend(data['results'])\n",
    "\n",
    "    filtered_words = words_filter(words_results, words_dict)\n",
    "    # words_dict_list = []\n",
    "    # for f_w in filtered_words:\n",
    "    #     words_dict_list.append(get_words_list(f_w, words_dict))\n",
    "    #     print(words_dict_list)\n",
    "\n",
    "    words_dict_list = [get_words_list(f_w, words_dict) for f_w in filtered_words]\n",
    "    print(len(words_dict_list))\n",
    "    print(words_dict_list)"
   ]
  },
  {
   "cell_type": "code",
   "execution_count": 28,
   "metadata": {},
   "outputs": [
    {
     "output_type": "stream",
     "name": "stdout",
     "text": [
      "60\n[{'de_word': 'die Garnele - pl.: die Garnelen', 'de_sentence': 'Wer würde nicht auch gerne eine Garnele essen?', 'es_word': 'camarón', 'es_sentence': '¿A quién no le gustaría comer un camarón?', 'de_audio': '', 'tags': 'sustantivo'}, {'de_word': 'der Zahn - pl.: die Zähne', 'de_sentence': 'Ich glaube, ein Zahn ist kaputt.', 'es_word': 'diente', 'es_sentence': 'Oh, creo que me rompí un diente.', 'de_audio': '', 'tags': 'sustantivo'}, {'de_word': 'nie', 'de_sentence': 'Ich habe Felix Bleibner nie vertraut.', 'es_word': 'nunca', 'es_sentence': 'Bueno, yo nunca me fié de Félix Bleibner.', 'de_audio': '', 'tags': 'adverbio'}, {'de_word': 'nicht mehr', 'de_sentence': 'Die Götter trauen dir nicht mehr.', 'es_word': 'ya no', 'es_sentence': 'Los dioses ya no pueden confiar en ti.', 'de_audio': '', 'tags': 'adverbio'}, {'de_word': 'gemütlich', 'de_sentence': \"Ich find's hier sehr gemütlich.\", 'es_word': 'cómodo', 'es_sentence': 'De hecho, estoy muy cómodo aquí.', 'de_audio': '', 'tags': 'adjetivo'}, {'de_word': 'hell', 'de_sentence': 'Es ist so hell und offen, weißt du.', 'es_word': 'luminoso', 'es_sentence': 'Es tan luminoso y abierto, ¿no?', 'de_audio': '', 'tags': 'adjetivo'}, {'de_word': 'Na ja', 'de_sentence': 'Na ja, ist vielleicht auch besser so.', 'es_word': 'bueno', 'es_sentence': 'Bueno. Tal vez sea mejor así.', 'de_audio': '', 'tags': 'adjetivo'}, {'de_word': 'die Kartoffel - pl.: die Kartoffeln', 'de_sentence': 'Ich habe eine Kartoffel auf meiner Gabel.', 'es_word': 'Patata', 'es_sentence': 'Tengo una patata en mi tenedor.', 'de_audio': '', 'tags': 'sustantivo'}, {'de_word': 'das obst - sin pl.', 'de_sentence': 'Ich will Land kaufen und Obst züchten.', 'es_word': 'frutales', 'es_sentence': 'Espero comprar tierra y plantar frutales.', 'de_audio': '', 'tags': 'sustantivo'}, {'de_word': 'die Korrektur - pl.: die Korrekturen', 'de_sentence': 'Führen Sie die erforderliche Korrektur durch.', 'es_word': 'corrección', 'es_sentence': 'Bien, haga la debida corrección.', 'de_audio': '', 'tags': 'sustantivo'}, {'de_word': 'die Erdbeere - pl.: die Erdbeeren', 'de_sentence': '- Schokolade oder Erdbeere, Sir?', 'es_word': 'fresa', 'es_sentence': '- ¿Chocolate o fresa, señor?', 'de_audio': '', 'tags': 'sustantivo'}, {'de_word': 'die Träne - pl.: die Tränen', 'de_sentence': 'Ich sehe eine Träne in seinen Augen.', 'es_word': 'lágrima', 'es_sentence': 'Veo una lágrima en sus ojos.', 'de_audio': '', 'tags': 'sustantivo'}, {'de_word': 'die Mundspülung - pl.: die Mundspülungen', 'de_sentence': 'Versuch du es mit einer Mundspülung!', 'es_word': '...', 'es_sentence': 'Tal vez deberías probar el enjuague bucal!', 'de_audio': '', 'tags': 'sustantivo'}, {'de_word': 'nachdenklich', 'de_sentence': 'Das hat ihn nachdenklich gemacht.', 'es_word': 'pensativo', 'es_sentence': 'Eso lo dejó pensativo.', 'de_audio': '', 'tags': 'adjetivo'}, {'de_word': 'eifersüchtig', 'de_sentence': 'Aber Daniel, ich glaube, du bist eifersüchtig.', 'es_word': 'celoso', 'es_sentence': 'Daniel, creo que estás celoso.', 'de_audio': '', 'tags': 'adjetivo'}, {'de_word': 'mutig', 'de_sentence': 'Ich bin nicht so mutig, wie gedacht.', 'es_word': 'valiente', 'es_sentence': 'No soy tan valiente como creía.', 'de_audio': '', 'tags': 'adjetivo'}, {'de_word': 'die Farbe - pl.: die Farben', 'de_sentence': 'Creme ist sowieso nicht meine Farbe.', 'es_word': 'color', 'es_sentence': 'El crema no es mi color de todas formas.', 'de_audio': '', 'tags': 'sustantivo'}, {'de_word': 'wütend', 'de_sentence': 'Ich bin so wütend, dass ich schreien könnte.', 'es_word': '...', 'es_sentence': 'Estoy tan enojada que voy a explotar.', 'de_audio': '', 'tags': 'adjetivo'}, {'de_word': 'schwierig', 'de_sentence': 'Ja, dass wird irgendwie schwierig.', 'es_word': 'difícil', 'es_sentence': 'Lo sé, va a ser un poco difícil.', 'de_audio': '', 'tags': 'adjetivo'}, {'de_word': 'der Pinguin - pl.: die Pinguine', 'de_sentence': 'Gordon hat Pinguin am Leben gelassen.', 'es_word': 'Pingüino', 'es_sentence': 'Gordon no asesinó al Pingüino como le dijimos.', 'de_audio': '', 'tags': 'sustantivo'}, {'de_word': 'fleißig', 'de_sentence': 'Ist einer fleißig, ist der andere faul.', 'es_word': 'trabajador', 'es_sentence': 'Si uno es trabajador, el otro es vago.', 'de_audio': '', 'tags': 'adjetivo'}, {'de_word': 'das rennen - pl.: die Rennen', 'de_sentence': 'Ich wusste nicht, dass du so schnell rennen kannst.', 'es_word': 'correr', 'es_sentence': 'No sabía que podías correr tan rápido.', 'de_audio': '', 'tags': 'sustantivo'}, {'de_word': 'der Kühlschrank - pl.: die Kühlschränke', 'de_sentence': 'Das war alles in meinem Kühlschrank.', 'es_word': '...', 'es_sentence': 'Eso era todo lo que había en mi nevera.', 'de_audio': '', 'tags': 'sustantivo'}, {'de_word': 'der Fernseher - pl.: die Fernseher', 'de_sentence': 'Der Fernseher ist viel größer als deiner.', 'es_word': '...', 'es_sentence': 'Esta tele es mucho más grande que la tuya.', 'de_audio': '', 'tags': 'sustantivo'}, {'de_word': 'die Zahnbürste - pl.: die Zahnbürsten', 'de_sentence': 'OK, dein Handtuch und deine Zahnbürste.', 'es_word': 'cepillo de dientes', 'es_sentence': 'Bien, aquí esta su toalla y su cepillo de dientes.', 'de_audio': '', 'tags': 'sustantivo'}, {'de_word': 'der Regenschirm - pl.: die Regenschirme', 'de_sentence': 'Den Regenschirm werden sie nicht brauchen.', 'es_word': '...', 'es_sentence': 'Creo que no necesitará el paraguas.', 'de_audio': '', 'tags': 'sustantivo'}, {'de_word': 'selten', 'de_sentence': 'So gute Berichte sieht man selten.', 'es_word': 'rara vez', 'es_sentence': 'Rara vez se ve un informe tan bueno.', 'de_audio': '', 'tags': 'adverbio'}, {'de_word': 'zwischen', 'de_sentence': 'Dass zwischen uns etwas nicht stimmte.', 'es_word': 'entre', 'es_sentence': 'Sé que algo no iba bien entre nosotros.', 'de_audio': '', 'tags': 'adverbio'}, {'de_word': 'der Rücken - pl.: die Rücken', 'de_sentence': 'Warte, etwas drückt am Rücken.', 'es_word': 'espalda', 'es_sentence': 'Espera, algo me está lastimando la espalda.', 'de_audio': '', 'tags': 'sustantivo'}, {'de_word': 'Wozu', 'de_sentence': '- Wozu brauchst du einen Anzug?', 'es_word': '¿para qué', 'es_sentence': '- ¿Para qué quieres el disfraz?', 'de_audio': '', 'tags': 'adverbio'}, {'de_word': 'tipptopp', 'de_sentence': 'Wie du siehst, ist hier alles tipptopp.', 'es_word': '...', 'es_sentence': 'Como verás, todo está impecable.', 'de_audio': '', 'tags': 'adjetivo'}, {'de_word': 'glänzen', 'de_sentence': 'Das ist meine Zeit, zu glänzen.', 'es_word': 'brillar', 'es_sentence': 'Este es mi momento de brillar.', 'de_audio': '', 'tags': 'verbo'}, {'de_word': 'der Gedanke - pl.: die Gedanken', 'de_sentence': 'Mir gefällt der Gedanke nicht besonders.', 'es_word': 'idea', 'es_sentence': 'No estoy seguro que me guste mucho la idea.', 'de_audio': '', 'tags': 'sustantivo'}, {'de_word': 'zumindest', 'de_sentence': 'Gebt Gwen zumindest einen fairen Prozess.', 'es_word': 'al menos', 'es_sentence': 'Al menos dele a Gwen un juicio justo.', 'de_audio': '', 'tags': 'adverbio'}, {'de_word': 'pünktlich', 'de_sentence': 'Eigentlich bist du genau pünktlich, Harvey.', 'es_word': 'a tiempo', 'es_sentence': 'En realidad, Harvey, llegas justo a tiempo.', 'de_audio': '', 'tags': 'adjetivo'}, {'de_word': 'spannend', 'de_sentence': 'Oh, ja, es war so spannend.', 'es_word': 'emocionante', 'es_sentence': 'Oh, sí, fue tan emocionante.', 'de_audio': '', 'tags': 'adjetivo'}, {'de_word': 'schließen', 'de_sentence': 'Wir schließen jetzt die Augen und schlafen.', 'es_word': 'cerrar', 'es_sentence': 'Bien, nosotros vamos a cerrar los ojos y a dormir.', 'de_audio': '', 'tags': 'verbo'}, {'de_word': 'Leider', 'de_sentence': 'Leider sind Ihre Blutmarker extrem hoch.', 'es_word': 'desafortunadamente', 'es_sentence': 'Desafortunadamente tus niveles de sangre están muy alto.', 'de_audio': '', 'tags': 'adverbio'}, {'de_word': 'unmöglich', 'de_sentence': 'Es ist physisch unmöglich, aber ich verstehe es jetzt.', 'es_word': 'imposible', 'es_sentence': 'Es físicamente imposible, pero lo entiendo.', 'de_audio': '', 'tags': 'adjetivo'}, {'de_word': 'berechnen', 'de_sentence': 'Mit dieser Funktion können Sie Quadratwurzeln berechnen.', 'es_word': 'calcular', 'es_sentence': 'Use esta función para calcular raíces cuadradas.', 'de_audio': '', 'tags': 'verbo'}, {'de_word': 'hoffentlich', 'de_sentence': 'Himmel, hoffentlich ist nichts passiert.', 'es_word': 'ojalá', 'es_sentence': 'Cielos, ojalá no haya problemas.', 'de_audio': '', 'tags': 'adverbio'}, {'de_word': 'das Recht - pl.  ', 'de_sentence': 'Die Geschichte wird uns Recht geben.', 'es_word': 'razón', 'es_sentence': 'La historia, querido amigo, nos dará la razón.', 'de_audio': '', 'tags': 'sustantivo'}, {'de_word': 'wählen', 'de_sentence': 'Sie hatten das Recht zu wählen.', 'es_word': 'elegir', 'es_sentence': 'Se habían ganado el derecho a elegir.', 'de_audio': '', 'tags': 'verbo'}, {'de_word': 'malen', 'de_sentence': 'Ich wollte mein Studium aufgeben und nur noch malen.', 'es_word': 'pintar', 'es_sentence': 'Quería dejar mis estudios y pintar solamente.', 'de_audio': '', 'tags': 'verbo'}, {'de_word': 'der Anruf - pl.: die Anrufe', 'de_sentence': 'Sir, Ihr Anruf vom Premierminister.', 'es_word': 'llamada', 'es_sentence': 'Señor, la llamada con el Primer Ministro.', 'de_audio': '', 'tags': 'sustantivo'}, {'de_word': 'der Riese - pl.: die Riesen, die Riesinnen', 'de_sentence': 'Der Riese ist auf unserem Land.', 'es_word': 'gigante', 'es_sentence': 'Este gigante está en nuestras tierras.', 'de_audio': '', 'tags': 'sustantivo'}, {'de_word': 'die Erkältung - pl.: die Erkältungen', 'de_sentence': 'Ich glaube, dass es war nur eine Erkältung.', 'es_word': 'resfriado', 'es_sentence': 'Pensé que solo era un resfriado.', 'de_audio': '', 'tags': 'sustantivo'}, {'de_word': 'erkältet', 'de_sentence': 'Komm mir nicht zu nahe. Ich bin erkältet.', 'es_word': 'resfriado', 'es_sentence': 'No te me acerques, estoy resfriado.', 'de_audio': '', 'tags': 'adjetivo'}, {'de_word': 'die Apotheke - pl.: die Apotheken', 'de_sentence': 'Die Apotheke liegt in der Nähe des Krankenhauses.', 'es_word': 'farmacia', 'es_sentence': 'La farmacia está cerca del hospital.', 'de_audio': '', 'tags': 'sustantivo'}, {'de_word': 'das Wetter - sin pl.', 'de_sentence': 'An diesem Sonntag sprechen wir besser über das Wetter.', 'es_word': 'clima', 'es_sentence': 'En esta mañana mejor hablamos del clima.', 'de_audio': '', 'tags': 'sustantivo'}, {'de_word': 'der Schmerz - pl.: die Schmerzen', 'de_sentence': 'Dann fühlte er einen stechenden Schmerz und ist kollabiert.', 'es_word': 'dolor', 'es_sentence': 'Después tuvo un dolor agudo y colapsó.', 'de_audio': '', 'tags': 'sustantivo'}, {'de_word': 'der Kopf - pl.: die Köpfe', 'de_sentence': 'Ich bin so was von verkrampft im Kopf...', 'es_word': 'cabeza', 'es_sentence': 'Tengo tanta presión en la cabeza...', 'de_audio': '', 'tags': 'sustantivo'}, {'de_word': 'natürlich', 'de_sentence': 'Aber natürlich haben Sie unsere volle Unterstützung.', 'es_word': 'por supuesto', 'es_sentence': 'Pero, por supuesto, tiene nuestro completo apoyo.', 'de_audio': '', 'tags': 'adverbio'}, {'de_word': 'übrigens', 'de_sentence': 'Ich liebe übrigens deine neue Frisur.', 'es_word': 'por cierto', 'es_sentence': 'Me encanta tu nuevo peinado, por cierto.', 'de_audio': '', 'tags': 'adverbio'}, {'de_word': 'schwierig', 'de_sentence': \"Es ist schwierig, aber wir versuchen's.\", 'es_word': 'difícil', 'es_sentence': 'Es difícil, pero lo intentaremos.', 'de_audio': '', 'tags': 'adjetivo'}, {'de_word': 'Ansonsten', 'de_sentence': 'Ansonsten haben wir nichts zu verbergen.', 'es_word': 'por lo demás', 'es_sentence': 'Por lo demás, no tenemos nada que ocultar.', 'de_audio': '', 'tags': 'adverbio'}, {'de_word': 'weil', 'de_sentence': 'Ich rufe an, weil Tante Dorothy heute verstorben ist.', 'es_word': 'porque', 'es_sentence': 'Estoy llamando porque la tía Dorothy falleció hoy.', 'de_audio': '', 'tags': 'adverbio'}, {'de_word': 'die herkunft - pl.: die Herkünfte', 'de_sentence': 'Die meisten Offiziere waren britischer Herkunft.', 'es_word': 'origen', 'es_sentence': 'La mayoría de los oficiales eran de origen británico.', 'de_audio': '', 'tags': 'sustantivo'}, {'de_word': 'schläfrig', 'de_sentence': 'Ich bin einfach echt schläfrig.', 'es_word': 'somnoliento', 'es_sentence': 'Sólo estoy realmente somnoliento.', 'de_audio': '', 'tags': 'adjetivo'}, {'de_word': 'die Verwüstung - pl.: die Verwüstungen', 'de_sentence': 'Die Dinosaurier spürten die drohende Verwüstung.', 'es_word': 'devastación', 'es_sentence': 'Los dinosaurios sintieron la devastación inminente.', 'de_audio': '', 'tags': 'sustantivo'}]\n"
     ]
    }
   ],
   "source": [
    "if __name__ == '__main__':\n",
    "   main()"
   ]
  }
 ]
}