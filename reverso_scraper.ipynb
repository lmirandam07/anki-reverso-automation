{
 "metadata": {
  "language_info": {
   "codemirror_mode": {
    "name": "ipython",
    "version": 3
   },
   "file_extension": ".py",
   "mimetype": "text/x-python",
   "name": "python",
   "nbconvert_exporter": "python",
   "pygments_lexer": "ipython3",
   "version": "3.9.1"
  },
  "orig_nbformat": 2,
  "kernelspec": {
   "name": "python391jvsc74a57bd0500182ff3f2c5a01a35676a8566cb1c6ccd4991a8858442ee9695627a778d294",
   "display_name": "Python 3.9.1 64-bit ('venv')"
  },
  "metadata": {
   "interpreter": {
    "hash": "663fcf70a6268f48f0ae5969ce6de9988ad359ea414e524dbf21a764de294fbe"
   }
  }
 },
 "nbformat": 4,
 "nbformat_minor": 2,
 "cells": [
  {
   "cell_type": "code",
   "execution_count": 43,
   "metadata": {},
   "outputs": [],
   "source": [
    "import csv\n",
    "import logging\n",
    "import requests\n",
    "from pathlib import Path\n",
    "from pprint import pprint\n",
    "from decouple import config\n",
    "from random import choice\n",
    "from bs4 import BeautifulSoup\n",
    "from xml.etree import ElementTree"
   ]
  },
  {
   "cell_type": "code",
   "execution_count": 3,
   "metadata": {},
   "outputs": [],
   "source": [
    "headers = {\n",
    "        'User-Agent': 'Mozilla/5.0 (Windows NT 10.0; Win64; x64; rv:87.0) Gecko/20100101 Firefox/87.0'\n",
    "}\n",
    "azure_access_token = ''"
   ]
  },
  {
   "cell_type": "code",
   "execution_count": 4,
   "metadata": {},
   "outputs": [],
   "source": [
    "def reverso_request(start, length):\n",
    "    base_url = f\"https://context.reverso.net/bst-web-user/user/favourites/shared\"\n",
    "    \n",
    "    params = {\n",
    "        'userName': 'lmirandam07',\n",
    "        'start': start,\n",
    "        'length': length,\n",
    "        'order': 10\n",
    "    }\n",
    "\n",
    "    try:\n",
    "        request = requests.get(base_url, params=params, headers=headers)\n",
    "        request.raise_for_status()\n",
    "        \n",
    "        return request.json()\n",
    "    except requests.exceptions.HTTPError as e:\n",
    "        print(e)"
   ]
  },
  {
   "cell_type": "code",
   "execution_count": 5,
   "metadata": {},
   "outputs": [],
   "source": [
    "# Function to drop the duplicated words from the JSON\n",
    "def words_filter(words, csv_headers): \n",
    "    csv_file = Path(\"./words_list.csv\")\n",
    "    csv_file.touch(exist_ok=True)\n",
    "    empty_file = False\n",
    "\n",
    "    with open(csv_file, 'r') as file: \n",
    "      reader = list(csv.reader(file))\n",
    "\n",
    "      if len(reader) == 1:\n",
    "        return words\n",
    "\n",
    "      if len(reader) < 1:\n",
    "        empty_file = True\n",
    "      elif len(reader) >=2:\n",
    "        last_word_de = reader[-1][0]\n",
    "\n",
    "    with open(csv_file, 'w') as file: \n",
    "      writer = csv.writer()\n",
    "      if empty_file:\n",
    "        writer.writerow(csv_headers.keys())\n",
    "        return words\n",
    "\n",
    "      last_updated_idx = words.index(list(filter(lambda w: w['srcText'] == last_word_de if w['srcLang'] == 'de' else w['trgText'] == last_word_de, words))[0])\n",
    "\n",
    "      return words[:last_updated_idx]\n"
   ]
  },
  {
   "cell_type": "code",
   "execution_count": 6,
   "metadata": {},
   "outputs": [],
   "source": [
    "def get_word_tag(de_word):\n",
    "    tags = ('adjetivo', 'sustantivo', 'adverbio', 'verbo')\n",
    "    reverso_url = f\"https://context.reverso.net/traduccion/aleman-espanol/{de_word}\"\n",
    "\n",
    "    try:\n",
    "        req = requests.get(reverso_url, headers=headers)\n",
    "        soup = BeautifulSoup(req.text, \"html.parser\")\n",
    "        word_tag = soup.select(\"#pos-filters button\")[0].text.strip().lower() or \"\"\n",
    "\n",
    "        if word_tag not in tags:\n",
    "            print(de_word, word_tag)\n",
    "            return \"\"\n",
    "        \n",
    "        return word_tag\n",
    "    except requests.exceptions.HTTPError as e:\n",
    "        print(e)"
   ]
  },
  {
   "cell_type": "code",
   "execution_count": 7,
   "metadata": {},
   "outputs": [],
   "source": [
    "def get_noun_article(de_word):\n",
    "    leo_url = f\"https://dict.leo.org/alem%C3%A1n-espa%C3%B1ol/{de_word}\"\n",
    "\n",
    "    try:\n",
    "        req = requests.get(leo_url, headers=headers)\n",
    "        soup = BeautifulSoup(req.text, \"html.parser\")        \n",
    "        de_noun = soup.select(\"#section-subst td[lang='de'] samp\")\n",
    "\n",
    "        de_article = de_noun[0].text.split(' ')[0] or ''\n",
    "        de_plural = de_noun[0].find('small').text or ''\n",
    "        de_word = f\"{de_article} {de_word} - {de_plural}\"\n",
    "        return de_word\n",
    "        \n",
    "    except requests.exceptions.HTTPError as e:\n",
    "        print(e)\n"
   ]
  },
  {
   "cell_type": "code",
   "execution_count": 8,
   "metadata": {},
   "outputs": [],
   "source": [
    "def get_access_token(sub_key, region):\n",
    "    fetch_token_url = f\"https://{region}.api.cognitive.microsoft.com/sts/v1.0/issueToken\"\n",
    "    headers = {\n",
    "        'Ocp-Apim-Subscription-Key': sub_key\n",
    "    }\n",
    "\n",
    "    try:\n",
    "        response = requests.post(fetch_token_url, headers=headers)\n",
    "        return str(response.text)\n",
    "    except requests.exceptions.HTTPError as e:\n",
    "        print(e)"
   ]
  },
  {
   "cell_type": "code",
   "execution_count": 125,
   "metadata": {},
   "outputs": [],
   "source": [
    "def get_sentence_audio(de_sentence):\n",
    "    AZURE_API_KEY = config('AZURE_API_KEY')\n",
    "    AZURE_REGION = config('AZURE_REGION')\n",
    "    global azure_access_token\n",
    "\n",
    "    if not azure_access_token:\n",
    "        azure_access_token = get_access_token(AZURE_API_KEY, AZURE_REGION)\n",
    "\n",
    "    try:\n",
    "        langs_and_voices = {\n",
    "            'de-DE': ('de-DE-ConradNeural', 'de-DE-KatjaNeural'),\n",
    "            'de-AT': ('de-AT-JonasNeural', 'de-AT-IngridNeural'),\n",
    "            'de-CH': ('de-CH-LeniNeural', 'de-CH-JanNeural')\n",
    "        }\n",
    "        # From the list of voices in german in the API, randomly select one\n",
    "        lang_choice = choice(list(langs_and_voices.keys()))\n",
    "        voice_choice = choice(langs_and_voices[lang_choice])\n",
    "\n",
    "        rate = 0\n",
    "        pitch = 0\n",
    "        \n",
    "        azure_api_url = f'https://{AZURE_REGION}.tts.speech.microsoft.com/cognitiveservices/v1'\n",
    "        headers = {\n",
    "            'Authorization': f'Bearer {azure_access_token}',\n",
    "            'Content-Type': 'application/ssml+xml',\n",
    "            'X-Microsoft-OutputFormat': 'audio-24khz-96kbitrate-mono-mp3',\n",
    "            'User-Agent': 'reverso-anki-automation'\n",
    "        }\n",
    "        # Create XML format that uses the API to make the translation\n",
    "        xml_body = ElementTree.Element('speak', version='1.0')\n",
    "        xml_body.set('{http://www.w3.org/XML/1998/namespace}lang', lang_choice)\n",
    "\n",
    "        voice = ElementTree.SubElement(xml_body, 'voice')\n",
    "        voice.set('{http://www.w3.org/XML/1998/namespace}lang', lang_choice)\n",
    "        voice.set(\n",
    "            'name', voice_choice)\n",
    "\n",
    "        prosody = ElementTree.SubElement(voice, 'prosody')\n",
    "        prosody.set('rate', f'{rate}%')\n",
    "        prosody.set('pitch', f'{pitch}%')\n",
    "        prosody.text = de_sentence\n",
    "\n",
    "        body = ElementTree.tostring(xml_body)\n",
    "\n",
    "        response = requests.post(azure_api_url, headers=headers, data=body)\n",
    "\n",
    "        if response.status_code in range(200,300):\n",
    "            audio_folder = Path(\"./audios\")\n",
    "            audio_folder.touch(exist_ok=True)\n",
    "            audio_file_name = Path(f\"azure-{str(uuid4())}.mp3\")\n",
    "            audio_file_path = Path.joinpath(audio_folder, audio_file_name)\n",
    "\n",
    "            if not audio_file_path.exists():\n",
    "                with open(audio_file_path, 'wb') as audio:\n",
    "                    audio.write(response.content)\n",
    "\n",
    "                return audio_file_name.name\n",
    "\n",
    "        return ''\n",
    "\n",
    "    except requests.exceptions.HTTPError as e:\n",
    "        print(e)"
   ]
  },
  {
   "cell_type": "code",
   "execution_count": 78,
   "metadata": {},
   "outputs": [],
   "source": [
    "def get_words_list(word, words_dict):\n",
    "    words_dict_c = words_dict.copy()\n",
    "    # If src lang is german, then return the first order otherwise change the order\n",
    "    language_order = lambda lang: ('src', 'trg') if lang =='de' else ('trg', 'src')\n",
    "\n",
    "    de_order, es_order = language_order(word['srcLang'])\n",
    "    words_dict_c['de_word'] = word[f'{de_order}Text']\n",
    "    words_dict_c['es_word'] = word[f'{es_order}Text']\n",
    "    # To remove <em> tags \n",
    "    words_dict_c['de_sentence'] = BeautifulSoup(word[f'{de_order}Context']).get_text()\n",
    "    words_dict_c['es_sentence'] = BeautifulSoup(word[f'{es_order}Context']).get_text()\n",
    "\n",
    "    words_dict_c['tags'] = get_word_tag(words_dict_c['de_word'])\n",
    "\n",
    "    if words_dict_c['tags'] == 'sustantivo':\n",
    "        words_dict_c['de_word'] = get_noun_article(words_dict_c['de_word'])\n",
    "\n",
    "    words_dict_c['de_audio'] = get_sentence_audio(words_dict['de_sentence'])\n",
    "    return words_dict_c"
   ]
  },
  {
   "cell_type": "code",
   "execution_count": 79,
   "metadata": {},
   "outputs": [],
   "source": [
    "def save_words_csv(words_list):\n",
    "    pass"
   ]
  },
  {
   "cell_type": "code",
   "execution_count": 12,
   "metadata": {},
   "outputs": [],
   "source": [
    "def main():\n",
    "    # logging.basicConfig(filename='scraper.log', level=logging.INFO)\n",
    "    words_dict = {\n",
    "        'de_word': '',\n",
    "        'de_sentence': '',\n",
    "        'es_word': '',\n",
    "        'es_sentence': '',\n",
    "        'de_audio': '',\n",
    "        'tags': ''\n",
    "    }\n",
    "    start = 0\n",
    "    length = 10\n",
    "    data = reverso_request(start, length)\n",
    "    words_results = data['results']\n",
    "    num_total_results = data['numTotalResults']\n",
    "    if num_total_results > length:\n",
    "        # Starts the requests in the end of the previus and make another with all the remaining words\n",
    "        start = length\n",
    "        length = num_total_results - length\n",
    "        data = reverso_request(start, length)\n",
    "        words_results.extend(data['results'])\n",
    "\n",
    "    filtered_words = words_filter(words_results, words_dict)\n",
    "\n",
    "    words_dict_list = [get_words_list(f_w, words_dict) for f_w in filtered_words]\n",
    "    print(len(words_dict_list))\n",
    "    pprint(words_dict_list)"
   ]
  },
  {
   "cell_type": "code",
   "execution_count": 11,
   "metadata": {},
   "outputs": [
    {
     "output_type": "stream",
     "name": "stdout",
     "text": [
      "60\n[{'de_audio': '',\n  'de_sentence': 'Wie du siehst, ist hier alles tipptopp.',\n  'de_word': 'tipptopp',\n  'es_sentence': 'Como verás, todo está impecable.',\n  'es_word': 'impecable',\n  'tags': 'adjetivo'},\n {'de_audio': '',\n  'de_sentence': 'Tom kaufte Mary einen teuren Regenschirm.',\n  'de_word': 'der Regenschirm - pl.: die Regenschirme',\n  'es_sentence': 'Tom le compró a María un paraguas caro.',\n  'es_word': 'paraguas',\n  'tags': 'sustantivo'},\n {'de_audio': '',\n  'de_sentence': 'Habe ihnen meinen Fernseher für $300 verkauft.',\n  'de_word': 'der Fernseher - pl.: die Fernseher',\n  'es_sentence': 'Les vendí el televisor por 300 u$s.',\n  'es_word': 'televisor',\n  'tags': 'sustantivo'},\n {'de_audio': '',\n  'de_sentence': 'Das war alles in meinem Kühlschrank.',\n  'de_word': 'der Kühlschrank - pl.: die Kühlschränke',\n  'es_sentence': 'Eso era todo lo que había en mi nevera.',\n  'es_word': 'nevera',\n  'tags': 'sustantivo'},\n {'de_audio': '',\n  'de_sentence': 'Versuch du es mit einer Mundspülung!',\n  'de_word': 'die Mundspülung - pl.: die Mundspülungen',\n  'es_sentence': 'Tal vez deberías probar el enjuague bucal!',\n  'es_word': 'enjuague bucal',\n  'tags': 'sustantivo'},\n {'de_audio': '',\n  'de_sentence': 'Deswegen war der Ohmu also wütend.',\n  'de_word': 'wütend',\n  'es_sentence': 'Ese fue el motivo por el cual el Ohmu estaba tan enojado.',\n  'es_word': 'enojado',\n  'tags': 'adjetivo'},\n {'de_audio': '',\n  'de_sentence': 'Wer würde nicht auch gerne eine Garnele essen?',\n  'de_word': 'die Garnele - pl.: die Garnelen',\n  'es_sentence': '¿A quién no le gustaría comer un camarón?',\n  'es_word': 'camarón',\n  'tags': 'sustantivo'},\n {'de_audio': '',\n  'de_sentence': 'Ich glaube, ein Zahn ist kaputt.',\n  'de_word': 'der Zahn - pl.: die Zähne',\n  'es_sentence': 'Oh, creo que me rompí un diente.',\n  'es_word': 'diente',\n  'tags': 'sustantivo'},\n {'de_audio': '',\n  'de_sentence': 'Ich habe Felix Bleibner nie vertraut.',\n  'de_word': 'nie',\n  'es_sentence': 'Bueno, yo nunca me fié de Félix Bleibner.',\n  'es_word': 'nunca',\n  'tags': 'adverbio'},\n {'de_audio': '',\n  'de_sentence': 'Die Götter trauen dir nicht mehr.',\n  'de_word': 'nicht mehr',\n  'es_sentence': 'Los dioses ya no pueden confiar en ti.',\n  'es_word': 'ya no',\n  'tags': 'adverbio'},\n {'de_audio': '',\n  'de_sentence': \"Ich find's hier sehr gemütlich.\",\n  'de_word': 'gemütlich',\n  'es_sentence': 'De hecho, estoy muy cómodo aquí.',\n  'es_word': 'cómodo',\n  'tags': 'adjetivo'},\n {'de_audio': '',\n  'de_sentence': 'Es ist so hell und offen, weißt du.',\n  'de_word': 'hell',\n  'es_sentence': 'Es tan luminoso y abierto, ¿no?',\n  'es_word': 'luminoso',\n  'tags': 'adjetivo'},\n {'de_audio': '',\n  'de_sentence': 'Na ja, ist vielleicht auch besser so.',\n  'de_word': 'Na ja',\n  'es_sentence': 'Bueno. Tal vez sea mejor así.',\n  'es_word': 'bueno',\n  'tags': 'adjetivo'},\n {'de_audio': '',\n  'de_sentence': 'Ich habe eine Kartoffel auf meiner Gabel.',\n  'de_word': 'die Kartoffel - pl.: die Kartoffeln',\n  'es_sentence': 'Tengo una patata en mi tenedor.',\n  'es_word': 'Patata',\n  'tags': 'sustantivo'},\n {'de_audio': '',\n  'de_sentence': 'Ich will Land kaufen und Obst züchten.',\n  'de_word': 'das obst - sin pl.',\n  'es_sentence': 'Espero comprar tierra y plantar frutales.',\n  'es_word': 'frutales',\n  'tags': 'sustantivo'},\n {'de_audio': '',\n  'de_sentence': 'Führen Sie die erforderliche Korrektur durch.',\n  'de_word': 'die Korrektur - pl.: die Korrekturen',\n  'es_sentence': 'Bien, haga la debida corrección.',\n  'es_word': 'corrección',\n  'tags': 'sustantivo'},\n {'de_audio': '',\n  'de_sentence': '- Schokolade oder Erdbeere, Sir?',\n  'de_word': 'die Erdbeere - pl.: die Erdbeeren',\n  'es_sentence': '- ¿Chocolate o fresa, señor?',\n  'es_word': 'fresa',\n  'tags': 'sustantivo'},\n {'de_audio': '',\n  'de_sentence': 'Ich sehe eine Träne in seinen Augen.',\n  'de_word': 'die Träne - pl.: die Tränen',\n  'es_sentence': 'Veo una lágrima en sus ojos.',\n  'es_word': 'lágrima',\n  'tags': 'sustantivo'},\n {'de_audio': '',\n  'de_sentence': 'Das hat ihn nachdenklich gemacht.',\n  'de_word': 'nachdenklich',\n  'es_sentence': 'Eso lo dejó pensativo.',\n  'es_word': 'pensativo',\n  'tags': 'adjetivo'},\n {'de_audio': '',\n  'de_sentence': 'Aber Daniel, ich glaube, du bist eifersüchtig.',\n  'de_word': 'eifersüchtig',\n  'es_sentence': 'Daniel, creo que estás celoso.',\n  'es_word': 'celoso',\n  'tags': 'adjetivo'},\n {'de_audio': '',\n  'de_sentence': 'Ich bin nicht so mutig, wie gedacht.',\n  'de_word': 'mutig',\n  'es_sentence': 'No soy tan valiente como creía.',\n  'es_word': 'valiente',\n  'tags': 'adjetivo'},\n {'de_audio': '',\n  'de_sentence': 'Creme ist sowieso nicht meine Farbe.',\n  'de_word': 'die Farbe - pl.: die Farben',\n  'es_sentence': 'El crema no es mi color de todas formas.',\n  'es_word': 'color',\n  'tags': 'sustantivo'},\n {'de_audio': '',\n  'de_sentence': 'Ja, dass wird irgendwie schwierig.',\n  'de_word': 'schwierig',\n  'es_sentence': 'Lo sé, va a ser un poco difícil.',\n  'es_word': 'difícil',\n  'tags': 'adjetivo'},\n {'de_audio': '',\n  'de_sentence': 'Gordon hat Pinguin am Leben gelassen.',\n  'de_word': 'der Pinguin - pl.: die Pinguine',\n  'es_sentence': 'Gordon no asesinó al Pingüino como le dijimos.',\n  'es_word': 'Pingüino',\n  'tags': 'sustantivo'},\n {'de_audio': '',\n  'de_sentence': 'Ist einer fleißig, ist der andere faul.',\n  'de_word': 'fleißig',\n  'es_sentence': 'Si uno es trabajador, el otro es vago.',\n  'es_word': 'trabajador',\n  'tags': 'adjetivo'},\n {'de_audio': '',\n  'de_sentence': 'Ich wusste nicht, dass du so schnell rennen kannst.',\n  'de_word': 'das rennen - pl.: die Rennen',\n  'es_sentence': 'No sabía que podías correr tan rápido.',\n  'es_word': 'correr',\n  'tags': 'sustantivo'},\n {'de_audio': '',\n  'de_sentence': 'OK, dein Handtuch und deine Zahnbürste.',\n  'de_word': 'die Zahnbürste - pl.: die Zahnbürsten',\n  'es_sentence': 'Bien, aquí esta su toalla y su cepillo de dientes.',\n  'es_word': 'cepillo de dientes',\n  'tags': 'sustantivo'},\n {'de_audio': '',\n  'de_sentence': 'So gute Berichte sieht man selten.',\n  'de_word': 'selten',\n  'es_sentence': 'Rara vez se ve un informe tan bueno.',\n  'es_word': 'rara vez',\n  'tags': 'adverbio'},\n {'de_audio': '',\n  'de_sentence': 'Dass zwischen uns etwas nicht stimmte.',\n  'de_word': 'zwischen',\n  'es_sentence': 'Sé que algo no iba bien entre nosotros.',\n  'es_word': 'entre',\n  'tags': 'adverbio'},\n {'de_audio': '',\n  'de_sentence': 'Warte, etwas drückt am Rücken.',\n  'de_word': 'der Rücken - pl.: die Rücken',\n  'es_sentence': 'Espera, algo me está lastimando la espalda.',\n  'es_word': 'espalda',\n  'tags': 'sustantivo'},\n {'de_audio': '',\n  'de_sentence': '- Wozu brauchst du einen Anzug?',\n  'de_word': 'Wozu',\n  'es_sentence': '- ¿Para qué quieres el disfraz?',\n  'es_word': '¿para qué',\n  'tags': 'adverbio'},\n {'de_audio': '',\n  'de_sentence': 'Das ist meine Zeit, zu glänzen.',\n  'de_word': 'glänzen',\n  'es_sentence': 'Este es mi momento de brillar.',\n  'es_word': 'brillar',\n  'tags': 'verbo'},\n {'de_audio': '',\n  'de_sentence': 'Mir gefällt der Gedanke nicht besonders.',\n  'de_word': 'der Gedanke - pl.: die Gedanken',\n  'es_sentence': 'No estoy seguro que me guste mucho la idea.',\n  'es_word': 'idea',\n  'tags': 'sustantivo'},\n {'de_audio': '',\n  'de_sentence': 'Gebt Gwen zumindest einen fairen Prozess.',\n  'de_word': 'zumindest',\n  'es_sentence': 'Al menos dele a Gwen un juicio justo.',\n  'es_word': 'al menos',\n  'tags': 'adverbio'},\n {'de_audio': '',\n  'de_sentence': 'Eigentlich bist du genau pünktlich, Harvey.',\n  'de_word': 'pünktlich',\n  'es_sentence': 'En realidad, Harvey, llegas justo a tiempo.',\n  'es_word': 'a tiempo',\n  'tags': 'adjetivo'},\n {'de_audio': '',\n  'de_sentence': 'Oh, ja, es war so spannend.',\n  'de_word': 'spannend',\n  'es_sentence': 'Oh, sí, fue tan emocionante.',\n  'es_word': 'emocionante',\n  'tags': 'adjetivo'},\n {'de_audio': '',\n  'de_sentence': 'Wir schließen jetzt die Augen und schlafen.',\n  'de_word': 'schließen',\n  'es_sentence': 'Bien, nosotros vamos a cerrar los ojos y a dormir.',\n  'es_word': 'cerrar',\n  'tags': 'verbo'},\n {'de_audio': '',\n  'de_sentence': 'Leider sind Ihre Blutmarker extrem hoch.',\n  'de_word': 'Leider',\n  'es_sentence': 'Desafortunadamente tus niveles de sangre están muy alto.',\n  'es_word': 'desafortunadamente',\n  'tags': 'adverbio'},\n {'de_audio': '',\n  'de_sentence': 'Es ist physisch unmöglich, aber ich verstehe es jetzt.',\n  'de_word': 'unmöglich',\n  'es_sentence': 'Es físicamente imposible, pero lo entiendo.',\n  'es_word': 'imposible',\n  'tags': 'adjetivo'},\n {'de_audio': '',\n  'de_sentence': 'Mit dieser Funktion können Sie Quadratwurzeln berechnen.',\n  'de_word': 'berechnen',\n  'es_sentence': 'Use esta función para calcular raíces cuadradas.',\n  'es_word': 'calcular',\n  'tags': 'verbo'},\n {'de_audio': '',\n  'de_sentence': 'Himmel, hoffentlich ist nichts passiert.',\n  'de_word': 'hoffentlich',\n  'es_sentence': 'Cielos, ojalá no haya problemas.',\n  'es_word': 'ojalá',\n  'tags': 'adverbio'},\n {'de_audio': '',\n  'de_sentence': 'Die Geschichte wird uns Recht geben.',\n  'de_word': 'das Recht - pl.  ',\n  'es_sentence': 'La historia, querido amigo, nos dará la razón.',\n  'es_word': 'razón',\n  'tags': 'sustantivo'},\n {'de_audio': '',\n  'de_sentence': 'Sie hatten das Recht zu wählen.',\n  'de_word': 'wählen',\n  'es_sentence': 'Se habían ganado el derecho a elegir.',\n  'es_word': 'elegir',\n  'tags': 'verbo'},\n {'de_audio': '',\n  'de_sentence': 'Ich wollte mein Studium aufgeben und nur noch malen.',\n  'de_word': 'malen',\n  'es_sentence': 'Quería dejar mis estudios y pintar solamente.',\n  'es_word': 'pintar',\n  'tags': 'verbo'},\n {'de_audio': '',\n  'de_sentence': 'Sir, Ihr Anruf vom Premierminister.',\n  'de_word': 'der Anruf - pl.: die Anrufe',\n  'es_sentence': 'Señor, la llamada con el Primer Ministro.',\n  'es_word': 'llamada',\n  'tags': 'sustantivo'},\n {'de_audio': '',\n  'de_sentence': 'Der Riese ist auf unserem Land.',\n  'de_word': 'der Riese - pl.: die Riesen, die Riesinnen',\n  'es_sentence': 'Este gigante está en nuestras tierras.',\n  'es_word': 'gigante',\n  'tags': 'sustantivo'},\n {'de_audio': '',\n  'de_sentence': 'Ich glaube, dass es war nur eine Erkältung.',\n  'de_word': 'die Erkältung - pl.: die Erkältungen',\n  'es_sentence': 'Pensé que solo era un resfriado.',\n  'es_word': 'resfriado',\n  'tags': 'sustantivo'},\n {'de_audio': '',\n  'de_sentence': 'Komm mir nicht zu nahe. Ich bin erkältet.',\n  'de_word': 'erkältet',\n  'es_sentence': 'No te me acerques, estoy resfriado.',\n  'es_word': 'resfriado',\n  'tags': 'adjetivo'},\n {'de_audio': '',\n  'de_sentence': 'Die Apotheke liegt in der Nähe des Krankenhauses.',\n  'de_word': 'die Apotheke - pl.: die Apotheken',\n  'es_sentence': 'La farmacia está cerca del hospital.',\n  'es_word': 'farmacia',\n  'tags': 'sustantivo'},\n {'de_audio': '',\n  'de_sentence': 'An diesem Sonntag sprechen wir besser über das Wetter.',\n  'de_word': 'das Wetter - sin pl.',\n  'es_sentence': 'En esta mañana mejor hablamos del clima.',\n  'es_word': 'clima',\n  'tags': 'sustantivo'},\n {'de_audio': '',\n  'de_sentence': 'Dann fühlte er einen stechenden Schmerz und ist kollabiert.',\n  'de_word': 'der Schmerz - pl.: die Schmerzen',\n  'es_sentence': 'Después tuvo un dolor agudo y colapsó.',\n  'es_word': 'dolor',\n  'tags': 'sustantivo'},\n {'de_audio': '',\n  'de_sentence': 'Ich bin so was von verkrampft im Kopf...',\n  'de_word': 'der Kopf - pl.: die Köpfe',\n  'es_sentence': 'Tengo tanta presión en la cabeza...',\n  'es_word': 'cabeza',\n  'tags': 'sustantivo'},\n {'de_audio': '',\n  'de_sentence': 'Aber natürlich haben Sie unsere volle Unterstützung.',\n  'de_word': 'natürlich',\n  'es_sentence': 'Pero, por supuesto, tiene nuestro completo apoyo.',\n  'es_word': 'por supuesto',\n  'tags': 'adverbio'},\n {'de_audio': '',\n  'de_sentence': 'Ich liebe übrigens deine neue Frisur.',\n  'de_word': 'übrigens',\n  'es_sentence': 'Me encanta tu nuevo peinado, por cierto.',\n  'es_word': 'por cierto',\n  'tags': 'adverbio'},\n {'de_audio': '',\n  'de_sentence': \"Es ist schwierig, aber wir versuchen's.\",\n  'de_word': 'schwierig',\n  'es_sentence': 'Es difícil, pero lo intentaremos.',\n  'es_word': 'difícil',\n  'tags': 'adjetivo'},\n {'de_audio': '',\n  'de_sentence': 'Ansonsten haben wir nichts zu verbergen.',\n  'de_word': 'Ansonsten',\n  'es_sentence': 'Por lo demás, no tenemos nada que ocultar.',\n  'es_word': 'por lo demás',\n  'tags': 'adverbio'},\n {'de_audio': '',\n  'de_sentence': 'Ich rufe an, weil Tante Dorothy heute verstorben ist.',\n  'de_word': 'weil',\n  'es_sentence': 'Estoy llamando porque la tía Dorothy falleció hoy.',\n  'es_word': 'porque',\n  'tags': 'adverbio'},\n {'de_audio': '',\n  'de_sentence': 'Die meisten Offiziere waren britischer Herkunft.',\n  'de_word': 'die herkunft - pl.: die Herkünfte',\n  'es_sentence': 'La mayoría de los oficiales eran de origen británico.',\n  'es_word': 'origen',\n  'tags': 'sustantivo'},\n {'de_audio': '',\n  'de_sentence': 'Ich bin einfach echt schläfrig.',\n  'de_word': 'schläfrig',\n  'es_sentence': 'Sólo estoy realmente somnoliento.',\n  'es_word': 'somnoliento',\n  'tags': 'adjetivo'},\n {'de_audio': '',\n  'de_sentence': 'Die Dinosaurier spürten die drohende Verwüstung.',\n  'de_word': 'die Verwüstung - pl.: die Verwüstungen',\n  'es_sentence': 'Los dinosaurios sintieron la devastación inminente.',\n  'es_word': 'devastación',\n  'tags': 'sustantivo'}]\n"
     ]
    }
   ],
   "source": [
    "if __name__ == '__main__':\n",
    "   main()"
   ]
  }
 ]
}