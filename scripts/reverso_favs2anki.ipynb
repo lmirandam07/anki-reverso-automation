{
 "metadata": {
  "language_info": {
   "codemirror_mode": {
    "name": "ipython",
    "version": 3
   },
   "file_extension": ".py",
   "mimetype": "text/x-python",
   "name": "python",
   "nbconvert_exporter": "python",
   "pygments_lexer": "ipython3",
   "version": "3.9.6"
  },
  "orig_nbformat": 4,
  "kernelspec": {
   "name": "python3",
   "display_name": "Python 3.9.6 64-bit ('venv': venv)"
  },
  "interpreter": {
   "hash": "0658ee35ecd3342550b3aff0680e6d32ab93dbd17b0631fbc09efc8af2220bb7"
  }
 },
 "nbformat": 4,
 "nbformat_minor": 2,
 "cells": [
  {
   "cell_type": "code",
   "execution_count": 1,
   "metadata": {},
   "outputs": [],
   "source": [
    "import time\n",
    "import requests\n",
    "import pandas as pd\n",
    "from pathlib import Path\n",
    "from bs4 import BeautifulSoup"
   ]
  },
  {
   "cell_type": "code",
   "execution_count": 2,
   "metadata": {},
   "outputs": [],
   "source": [
    "BASE_URL = \"https://context.reverso.net/bst-web-user/user/favourites/shared\"\n",
    "HEADERS = {\n",
    "    'User-Agent': 'Mozilla/5.0 (Windows NT 10.0; Win64; x64; rv:87.0) Gecko/20100101 Firefox/87.0'\n",
    "}"
   ]
  },
  {
   "cell_type": "code",
   "execution_count": 6,
   "metadata": {},
   "outputs": [],
   "source": [
    "class ReversoFavs2Anki():\n",
    "    def __init__(self, username: str, \n",
    "                    src_lang: str='de', \n",
    "                    trg_lang: str='es', \n",
    "                    audio: bool=False) -> None:\n",
    "        self.username = username\n",
    "        self.start = 0\n",
    "        self.length = 50\n",
    "        self.src_lang = src_lang\n",
    "        self.trg_lang = trg_lang\n",
    "        self.audio = audio\n",
    "\n",
    "    def get_favs(self, username: str, start: int, length: int):\n",
    "        params = {\n",
    "            'userName': username,\n",
    "            'start': start,\n",
    "            'length': length,\n",
    "            'order': 10\n",
    "        }\n",
    "\n",
    "        try:\n",
    "            req = requests.get(BASE_URL, params=params, headers=HEADERS)\n",
    "            req.raise_for_status()\n",
    "\n",
    "            return req.json()\n",
    "        except requests.exceptions.HTTPError as e:\n",
    "            print(e) # TODO: change to logging\n",
    "            \n",
    "    def create_csv(self, data):\n",
    "        src_lang_w = f'{self.src_lang}_word'\n",
    "        trg_lang_w = f'{self.trg_lang}_word'\n",
    "        src_lang_s = f'{self.src_lang}_sentence'\n",
    "        trg_lang_s = f'{self.trg_lang}_sentence'\n",
    "        src_lang_a = f'{self.src_lang}_audio'\n",
    "        \n",
    "        cols_name = [src_lang_w, src_lang_s, trg_lang_w,trg_lang_s, src_lang_a, 'tag']\n",
    "        words_dict = dict.fromkeys(cols_name, '')\n",
    "        return words_dict\n",
    "\n",
    "    def proccess_favs(self):\n",
    "        data = self.get_favs(self.username, self.start, self.length)\n",
    "        content = data['results']\n",
    "        total_results = data['numTotalResults'] \n",
    "\n",
    "        if total_results > self.length:\n",
    "            new_start = self.length\n",
    "            new_length = total_results - self.length\n",
    "            data = self.get_favs(self.username, new_start, new_length)\n",
    "            content.extend(data['results']) \n",
    "        \n",
    "        dic = self.create_csv(content)\n",
    "        return dic\n",
    "            "
   ]
  },
  {
   "cell_type": "code",
   "execution_count": 7,
   "metadata": {},
   "outputs": [
    {
     "output_type": "stream",
     "name": "stdout",
     "text": [
      "{'True_audio': '',\n 'True_sentence': '',\n 'True_word': '',\n 'es_sentence': '',\n 'es_word': '',\n 'tag': ''}\n"
     ]
    }
   ],
   "source": [
    "from pprint import pprint\n",
    "if __name__ == '__main__':\n",
    "    rev = ReversoFavs2Anki('lmirandam07', True)\n",
    "    pprint(rev.proccess_favs())"
   ]
  }
 ]
}